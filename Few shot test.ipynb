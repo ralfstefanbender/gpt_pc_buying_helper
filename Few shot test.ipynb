{
 "cells": [
  {
   "cell_type": "code",
   "execution_count": 49,
   "id": "b18b46aa",
   "metadata": {},
   "outputs": [],
   "source": [
    "from gpt import GPT\n",
    "import openai\n",
    "from gpt import Example"
   ]
  },
  {
   "cell_type": "code",
   "execution_count": 50,
   "id": "38e98db7",
   "metadata": {},
   "outputs": [],
   "source": [
    "with open(\"openai_key.txt\") as file:\n",
    "    key = file.read()\n",
    "    openai.api_key = key"
   ]
  },
  {
   "cell_type": "code",
   "execution_count": 51,
   "id": "d5e5fff3",
   "metadata": {},
   "outputs": [],
   "source": [
    "# Model creation\n",
    "gpt_pc_helper = GPT(engine=\"davinci\", temperature=.5, max_tokens=120)\n",
    "\n",
    "# Example 1\n",
    "gpt_pc_helper.add_example(Example(\"i want to buy a computer that can play games\", \n",
    "                                  \"You need to invest in a good graphics card and moderate cpu\"\n",
    "                                 ))\n",
    "gpt_pc_helper.add_example(Example(\"i need a pc for programming\", \n",
    "                                  \"programming doesnt require expensive hardware\"\n",
    "                                 ))\n",
    "gpt_pc_helper.add_example(Example(\"i want to edit 4k videos on my pc\", \n",
    "                                  \"You will need a very good graphics card, a good cpu and a lot of ram\"\n",
    "                                 ))\n",
    "gpt_pc_helper.add_example(Example(\"i need to edit videos on the new computer\", \n",
    "                                  \"You will need a good graphics card, a good cpu and a good amount of ram\"\n",
    "                                 ))\n",
    "gpt_pc_helper.add_example(Example(\"i want to train machine learning models on my pc\", \n",
    "                                  \"Machine learning need a good cpu\"\n",
    "                                 ))\n",
    "gpt_pc_helper.add_example(Example(\"We want to buy a new pc to watch videos\", \n",
    "                                  \"you dont need expensive hardware to watch videos\"\n",
    "                                 ))\n",
    "gpt_pc_helper.add_example(Example(\"i want to train machine learning models on my pc\", \n",
    "                                  \"Machine learning need a good cpu\"\n",
    "                                 ))\n",
    "gpt_pc_helper.add_example(Example(\"we need a gaming computer\", \n",
    "                                  \"You will need a good graphics card and moderate cpu\"\n",
    "                                 ))\n",
    "gpt_pc_helper.add_example(Example(\"the new pc should be able to edit videos\", \n",
    "                                  \"You will need a good graphics card, a good cpu and a good amount of ram\"\n",
    "                                 ))\n",
    "gpt_pc_helper.add_example(Example(\"i want to buy a computer to use social media\", \n",
    "                                  \"You dont need expensive hardware to use social media apps\"\n",
    "                                 ))"
   ]
  },
  {
   "cell_type": "code",
   "execution_count": 52,
   "id": "c202e936",
   "metadata": {},
   "outputs": [
    {
     "name": "stdout",
     "output_type": "stream",
     "text": [
      " You will need a good graphics card, a good cpu and a good amount of ram\n",
      "\n",
      "\n"
     ]
    }
   ],
   "source": [
    "output = gpt_pc_helper.submit_request(\"we need a pc for editing\")\n",
    "text_output = output.choices[0].text[7:]\n",
    "print(text_output)"
   ]
  }
 ],
 "metadata": {
  "kernelspec": {
   "display_name": "Python 3 (ipykernel)",
   "language": "python",
   "name": "python3"
  },
  "language_info": {
   "codemirror_mode": {
    "name": "ipython",
    "version": 3
   },
   "file_extension": ".py",
   "mimetype": "text/x-python",
   "name": "python",
   "nbconvert_exporter": "python",
   "pygments_lexer": "ipython3",
   "version": "3.8.8"
  }
 },
 "nbformat": 4,
 "nbformat_minor": 5
}
